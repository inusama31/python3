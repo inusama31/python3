{
 "cells": [
  {
   "cell_type": "code",
   "execution_count": 1,
   "id": "3abb3dd1",
   "metadata": {},
   "outputs": [
    {
     "name": "stdout",
     "output_type": "stream",
     "text": [
      "Twinkle, twinkle, little star, \n",
      "\tHow I wonder what you are! \n",
      "\t\tUp above the world so high, \n",
      "\t\tLike a diamond in the sky. \n",
      "Twinkle, twinkle, little star, \n",
      "\tHow I wonder what you are\n"
     ]
    }
   ],
   "source": [
    "print(\"Twinkle, twinkle, little star, \\n\\tHow I wonder what you are! \\n\\t\\tUp above the world so high, \\n\\t\\tLike a diamond in the sky. \\nTwinkle, twinkle, little star, \\n\\tHow I wonder what you are\")"
   ]
  },
  {
   "cell_type": "code",
   "execution_count": 2,
   "id": "34cdfe14",
   "metadata": {},
   "outputs": [
    {
     "name": "stdout",
     "output_type": "stream",
     "text": [
      "Python version\n",
      "3.8.8 (default, Apr 13 2021, 15:08:03) [MSC v.1916 64 bit (AMD64)]\n"
     ]
    }
   ],
   "source": [
    "import sys\n",
    "print(\"Python version\")\n",
    "print (sys.version)\n"
   ]
  },
  {
   "cell_type": "code",
   "execution_count": 3,
   "id": "f62076d4",
   "metadata": {},
   "outputs": [
    {
     "name": "stdout",
     "output_type": "stream",
     "text": [
      "Current date and time : \n",
      "2021-10-24 14:41:41\n"
     ]
    }
   ],
   "source": [
    "import datetime\n",
    "now = datetime.datetime.now()\n",
    "print (\"Current date and time : \")\n",
    "print (now.strftime(\"%Y-%m-%d %H:%M:%S\"))"
   ]
  },
  {
   "cell_type": "code",
   "execution_count": 4,
   "id": "5c77e43a",
   "metadata": {},
   "outputs": [
    {
     "name": "stdout",
     "output_type": "stream",
     "text": [
      "Input the radius of the circle : 12\n",
      "The area of the circle with radius 12.0 is: 452.3893421169302\n"
     ]
    }
   ],
   "source": [
    "from math import pi\n",
    "r = float(input (\"Input the radius of the circle : \"))\n",
    "print (\"The area of the circle with radius \" + str(r) + \" is: \" + str(pi * r**2))"
   ]
  },
  {
   "cell_type": "code",
   "execution_count": 5,
   "id": "8e54a841",
   "metadata": {},
   "outputs": [
    {
     "name": "stdout",
     "output_type": "stream",
     "text": [
      "Input your First Name : usama\n",
      "Input your Last Name : sohail\n",
      "Hello  sohail usama\n"
     ]
    }
   ],
   "source": [
    "fname = input(\"Input your First Name : \")\n",
    "lname = input(\"Input your Last Name : \")\n",
    "print (\"Hello  \" + lname + \" \" + fname)"
   ]
  },
  {
   "cell_type": "code",
   "execution_count": 6,
   "id": "d3c3422d",
   "metadata": {},
   "outputs": [
    {
     "name": "stdout",
     "output_type": "stream",
     "text": [
      "enter first number: 12\n",
      "enter second number: 21\n",
      "sum: 33\n"
     ]
    }
   ],
   "source": [
    "a = int(input(\"enter first number: \"))\n",
    "b = int(input(\"enter second number: \"))\n",
    " \n",
    "sum = a + b\n",
    " \n",
    "print(\"sum:\", sum)"
   ]
  },
  {
   "cell_type": "code",
   "execution_count": 7,
   "id": "1e9a8037",
   "metadata": {},
   "outputs": [
    {
     "name": "stdout",
     "output_type": "stream",
     "text": [
      "Enter Marks Obtained in 5 Subjects: \n",
      "Enter marks of the first subject: 10\n",
      "Enter marks of the second subject: 20\n",
      "Enter marks of the third subject: 30\n",
      "Enter marks of the fourth subject: 40\n",
      "Enter marks of the fifth subject: 50\n",
      "Your Grade is F\n"
     ]
    }
   ],
   "source": [
    "print(\"Enter Marks Obtained in 5 Subjects: \")\n",
    "sub1=int(input(\"Enter marks of the first subject: \"))\n",
    "sub2=int(input(\"Enter marks of the second subject: \"))\n",
    "sub3=int(input(\"Enter marks of the third subject: \"))\n",
    "sub4=int(input(\"Enter marks of the fourth subject: \"))\n",
    "sub5=int(input(\"Enter marks of the fifth subject: \"))\n",
    "tot = sub1+sub2+sub3+sub4+sub5\n",
    "avg = tot/5\n",
    "\n",
    "if avg>=91 and avg<=100:\n",
    "    print(\"Your Grade is A+\")\n",
    "elif avg>=81 and avg<91:\n",
    "    print(\"Your Grade is A\")\n",
    "elif avg>=71 and avg<81:\n",
    "    print(\"Your Grade is B\")\n",
    "elif avg>=61 and avg<71:\n",
    "    print(\"Your Grade is C\")\n",
    "elif avg>=51 and avg<61:\n",
    "    print(\"Your Grade is D\")\n",
    "elif avg>=0 and avg<51:\n",
    "    print(\"Your Grade is F\")\n",
    "else:\n",
    "    print(\"Invalid Input!\")"
   ]
  },
  {
   "cell_type": "code",
   "execution_count": 8,
   "id": "dd9f68f1",
   "metadata": {},
   "outputs": [
    {
     "name": "stdout",
     "output_type": "stream",
     "text": [
      "Enter a number: 22\n",
      "This is an even number.\n"
     ]
    }
   ],
   "source": [
    "num = int(input(\"Enter a number: \"))\n",
    "mod = num % 2\n",
    "if mod > 0:\n",
    "    print(\"This is an odd number.\")\n",
    "else:\n",
    "    print(\"This is an even number.\")"
   ]
  },
  {
   "cell_type": "code",
   "execution_count": 9,
   "id": "57c708b4",
   "metadata": {},
   "outputs": [],
   "source": [
    "list1 = ['Hello', 'beware','silent', 2021];\n",
    "list2 = [1, 2, 3, 4, 5 ];\n",
    "list3 = [\"A\", \"B\", \"C\", \"D\"];"
   ]
  },
  {
   "cell_type": "code",
   "execution_count": 10,
   "id": "5e11c87f",
   "metadata": {},
   "outputs": [
    {
     "name": "stdout",
     "output_type": "stream",
     "text": [
      "Number of items in the list =  6\n"
     ]
    }
   ],
   "source": [
    "ListName = [\"Hello\",\"beware\",\"silent\", 1, 2, 3]\n",
    "print (\"Number of items in the list = \", len(ListName))"
   ]
  },
  {
   "cell_type": "code",
   "execution_count": null,
   "id": "5d07d4d2",
   "metadata": {},
   "outputs": [],
   "source": []
  },
  {
   "cell_type": "code",
   "execution_count": 11,
   "id": "52c8506a",
   "metadata": {},
   "outputs": [
    {
     "name": "stdout",
     "output_type": "stream",
     "text": [
      "8\n"
     ]
    }
   ],
   "source": [
    "def max_num_in_list( list ):\n",
    "    max = list[ 0 ]\n",
    "    for a in list:\n",
    "        if a > max:\n",
    "            max = a\n",
    "    return max\n",
    "print(max_num_in_list([1, 2, -5, 8]))"
   ]
  },
  {
   "cell_type": "code",
   "execution_count": 12,
   "id": "136342fb",
   "metadata": {},
   "outputs": [
    {
     "name": "stdout",
     "output_type": "stream",
     "text": [
      "[1, 1, 2, 3]\n"
     ]
    }
   ],
   "source": [
    "def elements_lessthan_five(l): \n",
    "    l1=[] \n",
    "    for i in l: \n",
    "        if i<5: \n",
    "            l1.append(i) \n",
    "             \n",
    "    return(l1) \n",
    "     \n",
    "print(elements_lessthan_five([1, 1, 2, 3, 5, 8, 13, 21, 34, 55, 89]))"
   ]
  },
  {
   "cell_type": "code",
   "execution_count": null,
   "id": "8e101c8f",
   "metadata": {},
   "outputs": [],
   "source": []
  },
  {
   "cell_type": "code",
   "execution_count": null,
   "id": "e92e2041",
   "metadata": {},
   "outputs": [],
   "source": []
  }
 ],
 "metadata": {
  "kernelspec": {
   "display_name": "Python 3",
   "language": "python",
   "name": "python3"
  },
  "language_info": {
   "codemirror_mode": {
    "name": "ipython",
    "version": 3
   },
   "file_extension": ".py",
   "mimetype": "text/x-python",
   "name": "python",
   "nbconvert_exporter": "python",
   "pygments_lexer": "ipython3",
   "version": "3.8.8"
  }
 },
 "nbformat": 4,
 "nbformat_minor": 5
}
